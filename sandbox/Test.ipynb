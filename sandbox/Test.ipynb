{
 "cells": [
  {
   "cell_type": "code",
   "execution_count": 1,
   "id": "ee4f6bf9-6c2c-49a5-b4ca-84d7bb198571",
   "metadata": {},
   "outputs": [],
   "source": [
    "from sabueso.database import uniprotkb"
   ]
  },
  {
   "cell_type": "code",
   "execution_count": 2,
   "id": "1d8af001-0a30-401b-b3a0-8e9a2d80dd4d",
   "metadata": {},
   "outputs": [],
   "source": [
    "#xml_file = uniprotkb.uniprot_id.to_xml_file('P19367', 'P19367.xml')"
   ]
  },
  {
   "cell_type": "code",
   "execution_count": 3,
   "id": "d1135499-ade4-4b1d-a44a-d74f6938047b",
   "metadata": {},
   "outputs": [],
   "source": [
    "xml_dict = uniprotkb.xml_file.to_xml_dict('P19367.xml')"
   ]
  },
  {
   "cell_type": "code",
   "execution_count": null,
   "id": "1c3d29b2-acb2-495d-874d-92602055f6c4",
   "metadata": {},
   "outputs": [],
   "source": [
    "xml_dict['uniprot']['entry'].keys()"
   ]
  },
  {
   "cell_type": "code",
   "execution_count": 4,
   "id": "c62b64db-cd14-4abb-889d-134f8a139ed7",
   "metadata": {},
   "outputs": [
    {
     "data": {
      "text/plain": [
       "{'name': {'@evidence': '29', '@type': 'primary', '#text': 'HK1'}}"
      ]
     },
     "execution_count": 4,
     "metadata": {},
     "output_type": "execute_result"
    }
   ],
   "source": [
    "xml_dict['uniprot']['entry']['gene']"
   ]
  },
  {
   "cell_type": "code",
   "execution_count": null,
   "id": "c9ffde57-ddc8-4a9d-8217-f352e4fd2aaf",
   "metadata": {},
   "outputs": [],
   "source": [
    "xml_dict['uniprot']['entry']"
   ]
  },
  {
   "cell_type": "code",
   "execution_count": null,
   "id": "d80bcdfd-7ad9-41d0-984e-816b7f364eab",
   "metadata": {},
   "outputs": [],
   "source": [
    "xml_dict['uniprot']['entry']['dbReference']"
   ]
  },
  {
   "cell_type": "code",
   "execution_count": null,
   "id": "a6e1d246-fbff-475a-9a19-0de83be53be3",
   "metadata": {},
   "outputs": [],
   "source": []
  }
 ],
 "metadata": {
  "kernelspec": {
   "display_name": "Python 3 (ipykernel)",
   "language": "python",
   "name": "python3"
  },
  "language_info": {
   "codemirror_mode": {
    "name": "ipython",
    "version": 3
   },
   "file_extension": ".py",
   "mimetype": "text/x-python",
   "name": "python",
   "nbconvert_exporter": "python",
   "pygments_lexer": "ipython3",
   "version": "3.9.13"
  }
 },
 "nbformat": 4,
 "nbformat_minor": 5
}
