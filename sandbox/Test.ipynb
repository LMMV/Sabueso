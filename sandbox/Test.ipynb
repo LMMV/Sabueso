{
 "cells": [
  {
   "cell_type": "code",
   "execution_count": 1,
   "id": "ee4f6bf9-6c2c-49a5-b4ca-84d7bb198571",
   "metadata": {},
   "outputs": [],
   "source": [
    "from sabueso.database import UniProtKB"
   ]
  },
  {
   "cell_type": "code",
   "execution_count": null,
   "id": "b9da0902-662e-4173-b4ec-47e620e9119e",
   "metadata": {},
   "outputs": [],
   "source": [
    "item = 'uniprot:P19367'\n",
    "#item = 'uniprot:P52789'\n",
    "#item = 'uniprot:P52790'\n",
    "#item = 'uniprot:P35557'\n",
    "\n",
    "#item = 'uniprot:P0DOK3'"
   ]
  },
  {
   "cell_type": "code",
   "execution_count": 8,
   "id": "1d8af001-0a30-401b-b3a0-8e9a2d80dd4d",
   "metadata": {},
   "outputs": [],
   "source": [
    "#xml_file = uniprotkb.uniprot_id.to_xml_file('P19367', 'P19367.xml')\n",
    "#xml_file = UniProtKB.uniprot_id.to_xml_file('P52789', 'P52789.xml')\n",
    "#xml_file = UniProtKB.uniprot_id.to_xml_file('P52790', 'P52790.xml')\n",
    "#xml_file = UniProtKB.uniprot_id.to_xml_file('P35557', 'P35557.xml')\n",
    "#xml_file = UniProtKB.uniprot_id.to_xml_file('P0DOK3', 'P0DOK3.xml')\n",
    "#xml_file = UniProtKB.uniprot_id.to_xml_file('P13574', 'P13574.xml')\n",
    "#xml_file = UniProtKB.uniprot_id.to_xml_file('P41972', 'P41972.xml')\n",
    "xml_file = UniProtKB.uniprot_id.to_xml_file('O95696', 'O95696.xml')"
   ]
  },
  {
   "cell_type": "code",
   "execution_count": 12,
   "id": "d1135499-ade4-4b1d-a44a-d74f6938047b",
   "metadata": {},
   "outputs": [],
   "source": [
    "#xml_dict = UniProtKB.xml_file.to_xml_dict('P19367.xml')\n",
    "#xml_dict = UniProtKB.xml_file.to_xml_dict('P52789.xml')\n",
    "#xml_dict = UniProtKB.xml_file.to_xml_dict('P03211.xml')\n",
    "xml_dict = UniProtKB.xml_file.to_xml_dict('O95696.xml')"
   ]
  },
  {
   "cell_type": "code",
   "execution_count": 16,
   "id": "d7f9cd4f-4657-400f-a0fe-2b6385f17ff9",
   "metadata": {},
   "outputs": [
    {
     "data": {
      "text/plain": [
       "[{'@type': 'function',\n",
       "  'text': {'@evidence': '7 10 11',\n",
       "   '#text': \"Scaffold subunit of various histone acetyltransferase (HAT) complexes, such as the MOZ/MORF and HBO1 complexes, that acts as a regulator of hematopoiesis (PubMed:16387653, PubMed:21753189, PubMed:21880731). Plays a key role in HBO1 complex by directing KAT7/HBO1 specificity towards histone H3 'Lys-14' acetylation (H3K14ac), thereby promoting erythroid differentiation (PubMed:21753189).\"}},\n",
       " {'@type': 'subunit',\n",
       "  'text': {'@evidence': '7 8 9 10 11 12',\n",
       "   '#text': \"Component of some HBO1 complex composed of KAT7/HBO1, MEAF6, ING4 and BRD1/BRPF2 (PubMed:21753189, PubMed:28334966). Component of the MOZ/MORF complex composed at least of ING5, KAT6A, KAT6B, MEAF6 and one of BRPF1, BRD1/BRPF2 and BRPF3 (PubMed:16387653, PubMed:18794358). Interacts (via PHD-type zinc finger domain) with unmodified histone H3 (PubMed:21880731). Interacts (via PWWP domain) with dimethylated and trimethylated 'Lys-79' on histone H3 (PubMed:21720545).\"}},\n",
       " {'@type': 'interaction',\n",
       "  'interactant': [{'@intactId': 'EBI-714754', 'id': 'O95696'},\n",
       "   {'@intactId': 'EBI-12861768', 'id': 'Q6NVI2', 'label': 'CASP8'}],\n",
       "  'organismsDiffer': 'false',\n",
       "  'experiments': '3'},\n",
       " {'@type': 'interaction',\n",
       "  'interactant': [{'@intactId': 'EBI-714754', 'id': 'O95696'},\n",
       "   {'@intactId': 'EBI-739624', 'id': 'Q8NHQ1', 'label': 'CEP70'}],\n",
       "  'organismsDiffer': 'false',\n",
       "  'experiments': '3'},\n",
       " {'@type': 'interaction',\n",
       "  'interactant': [{'@intactId': 'EBI-714754', 'id': 'O95696'},\n",
       "   {'@intactId': 'EBI-11988027', 'id': 'Q9NRI5-2', 'label': 'DISC1'}],\n",
       "  'organismsDiffer': 'false',\n",
       "  'experiments': '3'},\n",
       " {'@type': 'interaction',\n",
       "  'interactant': [{'@intactId': 'EBI-714754', 'id': 'O95696'},\n",
       "   {'@intactId': 'EBI-2549423', 'id': 'Q6NT76', 'label': 'HMBOX1'}],\n",
       "  'organismsDiffer': 'false',\n",
       "  'experiments': '3'},\n",
       " {'@type': 'interaction',\n",
       "  'interactant': [{'@intactId': 'EBI-714754', 'id': 'O95696'},\n",
       "   {'@intactId': 'EBI-739552', 'id': 'P43364', 'label': 'MAGEA11'}],\n",
       "  'organismsDiffer': 'false',\n",
       "  'experiments': '3'},\n",
       " {'@type': 'interaction',\n",
       "  'interactant': [{'@intactId': 'EBI-714754', 'id': 'O95696'},\n",
       "   {'@intactId': 'EBI-307531', 'id': 'P23508', 'label': 'MCC'}],\n",
       "  'organismsDiffer': 'false',\n",
       "  'experiments': '3'},\n",
       " {'@type': 'interaction',\n",
       "  'interactant': [{'@intactId': 'EBI-714754', 'id': 'O95696'},\n",
       "   {'@intactId': 'EBI-79165', 'id': 'Q9NRD5', 'label': 'PICK1'}],\n",
       "  'organismsDiffer': 'false',\n",
       "  'experiments': '3'},\n",
       " {'@type': 'interaction',\n",
       "  'interactant': [{'@intactId': 'EBI-714754', 'id': 'O95696'},\n",
       "   {'@intactId': 'EBI-2952709', 'id': 'Q92622', 'label': 'RUBCN'}],\n",
       "  'organismsDiffer': 'false',\n",
       "  'experiments': '3'},\n",
       " {'@type': 'interaction',\n",
       "  'interactant': [{'@intactId': 'EBI-714754', 'id': 'O95696'},\n",
       "   {'@intactId': 'EBI-1105213', 'id': 'Q9UBB9', 'label': 'TFIP11'}],\n",
       "  'organismsDiffer': 'false',\n",
       "  'experiments': '3'},\n",
       " {'@type': 'interaction',\n",
       "  'interactant': [{'@intactId': 'EBI-714754', 'id': 'O95696'},\n",
       "   {'@intactId': 'EBI-527853', 'id': 'Q9UGI0', 'label': 'ZRANB1'}],\n",
       "  'organismsDiffer': 'false',\n",
       "  'experiments': '3'},\n",
       " {'@type': 'interaction',\n",
       "  'interactant': [{'@intactId': 'EBI-11700916', 'id': 'O95696-1'},\n",
       "   {'@intactId': 'EBI-637807', 'id': 'Q86U86', 'label': 'PBRM1'}],\n",
       "  'organismsDiffer': 'false',\n",
       "  'experiments': '2'},\n",
       " {'@type': 'interaction',\n",
       "  'interactant': [{'@intactId': 'EBI-11017508', 'id': 'O95696-2'},\n",
       "   {'@intactId': 'EBI-637807', 'id': 'Q86U86', 'label': 'PBRM1'}],\n",
       "  'organismsDiffer': 'false',\n",
       "  'experiments': '2'},\n",
       " {'@type': 'subcellular location',\n",
       "  'subcellularLocation': [{'location': {'@evidence': '10 11',\n",
       "     '#text': 'Nucleus'}},\n",
       "   {'location': {'@evidence': '10 12', '#text': 'Chromosome'}}],\n",
       "  'text': {'@evidence': '10 12',\n",
       "   '#text': 'Localizes to transcription start sites.'}},\n",
       " {'@type': 'alternative products',\n",
       "  'event': {'@type': 'alternative splicing'},\n",
       "  'isoform': [{'id': 'O95696-1',\n",
       "    'name': '1',\n",
       "    'sequence': {'@type': 'displayed'}},\n",
       "   {'id': 'O95696-2',\n",
       "    'name': '2',\n",
       "    'sequence': {'@type': 'described', '@ref': 'VSP_040262'}}]},\n",
       " {'@type': 'tissue specificity',\n",
       "  'text': {'@evidence': '6', '#text': 'Highly expressed in testis.'}}]"
      ]
     },
     "execution_count": 16,
     "metadata": {},
     "output_type": "execute_result"
    }
   ],
   "source": [
    "xml_dict['uniprot']['entry']['comment']"
   ]
  },
  {
   "cell_type": "code",
   "execution_count": null,
   "id": "a6e1d246-fbff-475a-9a19-0de83be53be3",
   "metadata": {},
   "outputs": [],
   "source": [
    "for feature in xml_dict['uniprot']['entry']['comment']:\n",
    "    if feature['@type'].startswith('DNA-binding'):\n",
    "        print(True)"
   ]
  },
  {
   "cell_type": "code",
   "execution_count": null,
   "id": "7da308cb-5002-43a9-9d78-5f850536820d",
   "metadata": {},
   "outputs": [],
   "source": [
    "xml_dict['uniprot']['entry']['feature']\n",
    "\n"
   ]
  },
  {
   "cell_type": "code",
   "execution_count": null,
   "id": "9430eb6a-6f18-449b-92f1-63a8f662525c",
   "metadata": {},
   "outputs": [],
   "source": []
  }
 ],
 "metadata": {
  "kernelspec": {
   "display_name": "Python 3 (ipykernel)",
   "language": "python",
   "name": "python3"
  },
  "language_info": {
   "codemirror_mode": {
    "name": "ipython",
    "version": 3
   },
   "file_extension": ".py",
   "mimetype": "text/x-python",
   "name": "python",
   "nbconvert_exporter": "python",
   "pygments_lexer": "ipython3",
   "version": "3.9.13"
  }
 },
 "nbformat": 4,
 "nbformat_minor": 5
}
