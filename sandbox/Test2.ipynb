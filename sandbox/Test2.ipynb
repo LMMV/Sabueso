{
 "cells": [
  {
   "cell_type": "code",
   "execution_count": 1,
   "id": "bbc69d8d-e557-4196-b5e3-ce832f2d6579",
   "metadata": {},
   "outputs": [],
   "source": [
    "from sabueso.database import uniprotkb"
   ]
  },
  {
   "cell_type": "code",
   "execution_count": 2,
   "id": "2ce26b78-5adf-4c83-9da3-a8a732e15b51",
   "metadata": {},
   "outputs": [],
   "source": [
    "#xml_file = uniprotkb.uniprot_id.to_xml_file('P19367', 'P19367.xml')"
   ]
  },
  {
   "cell_type": "code",
   "execution_count": 3,
   "id": "120298b3-cdc2-4489-9a12-7985ff1a6022",
   "metadata": {},
   "outputs": [],
   "source": [
    "entry = uniprotkb.xml_file.to_entry('P19367.xml')"
   ]
  },
  {
   "cell_type": "code",
   "execution_count": 7,
   "id": "049f1386-0e97-47d0-a889-2b4f250e0b4f",
   "metadata": {},
   "outputs": [],
   "source": [
    "entry.protein.recommended_name.ec_number"
   ]
  },
  {
   "cell_type": "code",
   "execution_count": null,
   "id": "92ed1a52-a08f-4c29-9070-8bfcdb7e3bc7",
   "metadata": {},
   "outputs": [],
   "source": []
  }
 ],
 "metadata": {
  "kernelspec": {
   "display_name": "Python 3 (ipykernel)",
   "language": "python",
   "name": "python3"
  },
  "language_info": {
   "codemirror_mode": {
    "name": "ipython",
    "version": 3
   },
   "file_extension": ".py",
   "mimetype": "text/x-python",
   "name": "python",
   "nbconvert_exporter": "python",
   "pygments_lexer": "ipython3",
   "version": "3.9.13"
  }
 },
 "nbformat": 4,
 "nbformat_minor": 5
}
