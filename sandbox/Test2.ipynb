{
 "cells": [
  {
   "cell_type": "code",
   "execution_count": 1,
   "id": "4cfced95-2a7e-4330-bad1-2df93427af51",
   "metadata": {},
   "outputs": [],
   "source": [
    "%load_ext autoreload\n",
    "%autoreload 2"
   ]
  },
  {
   "cell_type": "code",
   "execution_count": 4,
   "id": "bbc69d8d-e557-4196-b5e3-ce832f2d6579",
   "metadata": {},
   "outputs": [],
   "source": [
    "from sabueso.database import UniProtKB"
   ]
  },
  {
   "cell_type": "code",
   "execution_count": null,
   "id": "2ce26b78-5adf-4c83-9da3-a8a732e15b51",
   "metadata": {},
   "outputs": [],
   "source": [
    "#xml_file = uniprotkb.uniprot_id.to_xml_file('P19367', 'P19367.xml')"
   ]
  },
  {
   "cell_type": "code",
   "execution_count": 5,
   "id": "120298b3-cdc2-4489-9a12-7985ff1a6022",
   "metadata": {},
   "outputs": [
    {
     "name": "stdout",
     "output_type": "stream",
     "text": [
      "{'@evidence': '29', '@type': 'primary', '#text': 'HK1'}\n"
     ]
    },
    {
     "ename": "KeyError",
     "evalue": "'HGNC'",
     "output_type": "error",
     "traceback": [
      "\u001b[0;31m---------------------------------------------------------------------------\u001b[0m",
      "\u001b[0;31mKeyError\u001b[0m                                  Traceback (most recent call last)",
      "Input \u001b[0;32mIn [5]\u001b[0m, in \u001b[0;36m<cell line: 1>\u001b[0;34m()\u001b[0m\n\u001b[0;32m----> 1\u001b[0m entry \u001b[38;5;241m=\u001b[39m \u001b[43mUniProtKB\u001b[49m\u001b[38;5;241;43m.\u001b[39;49m\u001b[43mxml_file\u001b[49m\u001b[38;5;241;43m.\u001b[39;49m\u001b[43mto_entry\u001b[49m\u001b[43m(\u001b[49m\u001b[38;5;124;43m'\u001b[39;49m\u001b[38;5;124;43mP19367.xml\u001b[39;49m\u001b[38;5;124;43m'\u001b[39;49m\u001b[43m)\u001b[49m\n",
      "File \u001b[0;32m~/projects@dprada/Sabueso/sabueso/database/UniProtKB/xml_file/to_entry.py:7\u001b[0m, in \u001b[0;36mto_entry\u001b[0;34m(output_filename)\u001b[0m\n\u001b[1;32m      4\u001b[0m \u001b[38;5;28;01mdef\u001b[39;00m \u001b[38;5;21mto_entry\u001b[39m(output_filename):\n\u001b[1;32m      6\u001b[0m     xml_dict \u001b[38;5;241m=\u001b[39m to_xml_dict(output_filename)\n\u001b[0;32m----> 7\u001b[0m     entry \u001b[38;5;241m=\u001b[39m \u001b[43mxml_dict_to_entry\u001b[49m\u001b[43m(\u001b[49m\u001b[43mxml_dict\u001b[49m\u001b[43m)\u001b[49m\n\u001b[1;32m      9\u001b[0m     \u001b[38;5;28;01mreturn\u001b[39;00m entry\n",
      "File \u001b[0;32m~/projects@dprada/Sabueso/sabueso/database/UniProtKB/xml_dict/to_entry.py:213\u001b[0m, in \u001b[0;36mto_entry\u001b[0;34m(xml_dict)\u001b[0m\n\u001b[1;32m    211\u001b[0m record \u001b[38;5;241m=\u001b[39m xml_dict_gene[\u001b[38;5;124m'\u001b[39m\u001b[38;5;124mname\u001b[39m\u001b[38;5;124m'\u001b[39m]\n\u001b[1;32m    212\u001b[0m \u001b[38;5;28mprint\u001b[39m(record)\n\u001b[0;32m--> 213\u001b[0m evidence \u001b[38;5;241m=\u001b[39m \u001b[43m_xml_dict_record_to_evidence\u001b[49m\u001b[43m(\u001b[49m\u001b[43mrecord\u001b[49m\u001b[43m,\u001b[49m\u001b[43m \u001b[49m\u001b[43mxml_dict_evidences\u001b[49m\u001b[43m)\u001b[49m\n\u001b[1;32m    214\u001b[0m evidence\u001b[38;5;241m.\u001b[39madd_reference({\u001b[38;5;124m'\u001b[39m\u001b[38;5;124mdatabase\u001b[39m\u001b[38;5;124m'\u001b[39m:\u001b[38;5;124m'\u001b[39m\u001b[38;5;124mUniProtKB\u001b[39m\u001b[38;5;124m'\u001b[39m, \u001b[38;5;124m'\u001b[39m\u001b[38;5;124mid\u001b[39m\u001b[38;5;124m'\u001b[39m:xml_dict_accession})\n\u001b[1;32m    215\u001b[0m entry\u001b[38;5;241m.\u001b[39mprotein\u001b[38;5;241m.\u001b[39mrecommended_name\u001b[38;5;241m.\u001b[39mec_number \u001b[38;5;241m=\u001b[39m evidence\n",
      "File \u001b[0;32m~/projects@dprada/Sabueso/sabueso/database/UniProtKB/xml_dict/to_entry.py:105\u001b[0m, in \u001b[0;36m_xml_dict_record_to_evidence\u001b[0;34m(xml_dict_record, xml_dict_evidences)\u001b[0m\n\u001b[1;32m    103\u001b[0m             \u001b[38;5;28;01mif\u001b[39;00m evidence_in_db[\u001b[38;5;124m'\u001b[39m\u001b[38;5;124m@key\u001b[39m\u001b[38;5;124m'\u001b[39m]\u001b[38;5;241m!=\u001b[39mevidence_number_in_db:\n\u001b[1;32m    104\u001b[0m                 \u001b[38;5;28;01mraise\u001b[39;00m \u001b[38;5;167;01mValueError\u001b[39;00m(\u001b[38;5;124m'\u001b[39m\u001b[38;5;124mEvidence number does not match evidence @key\u001b[39m\u001b[38;5;124m'\u001b[39m)\n\u001b[0;32m--> 105\u001b[0m             \u001b[43m_add_reference_to_evidence\u001b[49m\u001b[43m(\u001b[49m\u001b[43moutput\u001b[49m\u001b[43m,\u001b[49m\u001b[43m \u001b[49m\u001b[43mevidence_in_db\u001b[49m\u001b[43m)\u001b[49m\n\u001b[1;32m    107\u001b[0m \u001b[38;5;28;01mreturn\u001b[39;00m output\n",
      "File \u001b[0;32m~/projects@dprada/Sabueso/sabueso/database/UniProtKB/xml_dict/to_entry.py:12\u001b[0m, in \u001b[0;36m_add_reference_to_evidence\u001b[0;34m(evidence, evidence_in_db)\u001b[0m\n\u001b[1;32m     10\u001b[0m         dbtype \u001b[38;5;241m=\u001b[39m evidence_in_db[\u001b[38;5;124m'\u001b[39m\u001b[38;5;124msource\u001b[39m\u001b[38;5;124m'\u001b[39m][\u001b[38;5;124m'\u001b[39m\u001b[38;5;124mdbReference\u001b[39m\u001b[38;5;124m'\u001b[39m][\u001b[38;5;124m'\u001b[39m\u001b[38;5;124m@type\u001b[39m\u001b[38;5;124m'\u001b[39m]\n\u001b[1;32m     11\u001b[0m         dbid \u001b[38;5;241m=\u001b[39m evidence_in_db[\u001b[38;5;124m'\u001b[39m\u001b[38;5;124msource\u001b[39m\u001b[38;5;124m'\u001b[39m][\u001b[38;5;124m'\u001b[39m\u001b[38;5;124mdbReference\u001b[39m\u001b[38;5;124m'\u001b[39m][\u001b[38;5;124m'\u001b[39m\u001b[38;5;124m@id\u001b[39m\u001b[38;5;124m'\u001b[39m]\n\u001b[0;32m---> 12\u001b[0m         ref  \u001b[38;5;241m=\u001b[39m \u001b[43m_get_reference_from_dbreference\u001b[49m\u001b[43m(\u001b[49m\u001b[43mdbtype\u001b[49m\u001b[43m,\u001b[49m\u001b[43m \u001b[49m\u001b[43mdbid\u001b[49m\u001b[43m)\u001b[49m\n\u001b[1;32m     13\u001b[0m         evidence\u001b[38;5;241m.\u001b[39madd_reference(ref)\n\u001b[1;32m     15\u001b[0m \u001b[38;5;28;01mpass\u001b[39;00m\n",
      "File \u001b[0;32m~/projects@dprada/Sabueso/sabueso/database/UniProtKB/xml_dict/to_entry.py:75\u001b[0m, in \u001b[0;36m_get_reference_from_dbreference\u001b[0;34m(dbtype, dbid)\u001b[0m\n\u001b[1;32m     73\u001b[0m     ref \u001b[38;5;241m=\u001b[39m evi\u001b[38;5;241m.\u001b[39mreference({\u001b[38;5;124m'\u001b[39m\u001b[38;5;124mdatabase\u001b[39m\u001b[38;5;124m'\u001b[39m:\u001b[38;5;124m'\u001b[39m\u001b[38;5;124mNCBI_Taxonomy\u001b[39m\u001b[38;5;124m'\u001b[39m, \u001b[38;5;124m'\u001b[39m\u001b[38;5;124mid\u001b[39m\u001b[38;5;124m'\u001b[39m:dbid})\n\u001b[1;32m     74\u001b[0m \u001b[38;5;28;01melif\u001b[39;00m dbtype\u001b[38;5;241m==\u001b[39m\u001b[38;5;124m'\u001b[39m\u001b[38;5;124mHGNC\u001b[39m\u001b[38;5;124m'\u001b[39m:\n\u001b[0;32m---> 75\u001b[0m     ref \u001b[38;5;241m=\u001b[39m \u001b[43mevi\u001b[49m\u001b[38;5;241;43m.\u001b[39;49m\u001b[43mreference\u001b[49m\u001b[43m(\u001b[49m\u001b[43m{\u001b[49m\u001b[38;5;124;43m'\u001b[39;49m\u001b[38;5;124;43mdatabase\u001b[39;49m\u001b[38;5;124;43m'\u001b[39;49m\u001b[43m:\u001b[49m\u001b[38;5;124;43m'\u001b[39;49m\u001b[38;5;124;43mHGNC\u001b[39;49m\u001b[38;5;124;43m'\u001b[39;49m\u001b[43m,\u001b[49m\u001b[43m \u001b[49m\u001b[38;5;124;43m'\u001b[39;49m\u001b[38;5;124;43mid\u001b[39;49m\u001b[38;5;124;43m'\u001b[39;49m\u001b[43m:\u001b[49m\u001b[43mdbid\u001b[49m\u001b[43m}\u001b[49m\u001b[43m)\u001b[49m\n\u001b[1;32m     76\u001b[0m \u001b[38;5;28;01melif\u001b[39;00m dbtype\u001b[38;5;241m==\u001b[39m\u001b[38;5;124m'\u001b[39m\u001b[38;5;124mSAM\u001b[39m\u001b[38;5;124m'\u001b[39m:\n\u001b[1;32m     77\u001b[0m     \u001b[38;5;28;01mif\u001b[39;00m dbid\u001b[38;5;241m==\u001b[39m\u001b[38;5;124m'\u001b[39m\u001b[38;5;124mMobiDB-lite\u001b[39m\u001b[38;5;124m'\u001b[39m:\n",
      "File \u001b[0;32m~/MyMachine/locals/miniconda3/envs/Sabueso@dprada_3.9/lib/python3.9/site-packages/evidence/tools.py:36\u001b[0m, in \u001b[0;36mreference\u001b[0;34m(reference)\u001b[0m\n\u001b[1;32m     34\u001b[0m \u001b[38;5;28;01mif\u001b[39;00m \u001b[38;5;124m'\u001b[39m\u001b[38;5;124mdatabase\u001b[39m\u001b[38;5;124m'\u001b[39m \u001b[38;5;129;01min\u001b[39;00m reference:\n\u001b[1;32m     35\u001b[0m     database \u001b[38;5;241m=\u001b[39m reference\u001b[38;5;241m.\u001b[39mpop(\u001b[38;5;124m'\u001b[39m\u001b[38;5;124mdatabase\u001b[39m\u001b[38;5;124m'\u001b[39m)\n\u001b[0;32m---> 36\u001b[0m     output \u001b[38;5;241m=\u001b[39m \u001b[43mdict_ref\u001b[49m\u001b[43m[\u001b[49m\u001b[43mdatabase\u001b[49m\u001b[43m]\u001b[49m(\u001b[38;5;241m*\u001b[39m\u001b[38;5;241m*\u001b[39mreference)\n\u001b[1;32m     38\u001b[0m \u001b[38;5;28;01melif\u001b[39;00m (\u001b[38;5;124m'\u001b[39m\u001b[38;5;124mauthors\u001b[39m\u001b[38;5;124m'\u001b[39m \u001b[38;5;129;01min\u001b[39;00m reference) \u001b[38;5;129;01mand\u001b[39;00m (\u001b[38;5;124m'\u001b[39m\u001b[38;5;124mjounal\u001b[39m\u001b[38;5;124m'\u001b[39m \u001b[38;5;129;01min\u001b[39;00m reference):\n\u001b[1;32m     39\u001b[0m     output \u001b[38;5;241m=\u001b[39m dict_ref[\u001b[38;5;124m'\u001b[39m\u001b[38;5;124mJournalArticle\u001b[39m\u001b[38;5;124m'\u001b[39m](\u001b[38;5;241m*\u001b[39m\u001b[38;5;241m*\u001b[39mreference)\n",
      "\u001b[0;31mKeyError\u001b[0m: 'HGNC'"
     ]
    }
   ],
   "source": [
    "entry = UniProtKB.xml_file.to_entry('P19367.xml')"
   ]
  },
  {
   "cell_type": "code",
   "execution_count": null,
   "id": "049f1386-0e97-47d0-a889-2b4f250e0b4f",
   "metadata": {},
   "outputs": [],
   "source": [
    "entry.protein.recommended_name.full_name"
   ]
  },
  {
   "cell_type": "code",
   "execution_count": null,
   "id": "92ed1a52-a08f-4c29-9070-8bfcdb7e3bc7",
   "metadata": {},
   "outputs": [],
   "source": [
    "entry.protein.alternative_name.short_name"
   ]
  },
  {
   "cell_type": "code",
   "execution_count": 6,
   "id": "a3725fc8-fc68-449e-a3a9-54661b6b97af",
   "metadata": {},
   "outputs": [],
   "source": [
    "class Nada():\n",
    "    \n",
    "    def __init__(self, aa=None):\n",
    "        self.aa = aa\n",
    "    \n",
    "    def copy(self):\n",
    "        return self.__init__(aa=self.aa)"
   ]
  },
  {
   "cell_type": "code",
   "execution_count": 28,
   "id": "e2363f7a-793a-4ab7-875e-a522fe2b1607",
   "metadata": {},
   "outputs": [],
   "source": [
    "veo1 = Nada(aa='hola')"
   ]
  },
  {
   "cell_type": "code",
   "execution_count": 29,
   "id": "9ec8e69d-e0b8-4987-aa24-4251ff624a49",
   "metadata": {},
   "outputs": [
    {
     "data": {
      "text/plain": [
       "<__main__.Nada at 0x7f8fc5153340>"
      ]
     },
     "execution_count": 29,
     "metadata": {},
     "output_type": "execute_result"
    }
   ],
   "source": [
    "veo1"
   ]
  },
  {
   "cell_type": "code",
   "execution_count": 9,
   "id": "749f8993-273d-44e2-bda6-03e4ae82138f",
   "metadata": {},
   "outputs": [
    {
     "ename": "TypeError",
     "evalue": "copy() missing 1 required positional argument: 'self'",
     "output_type": "error",
     "traceback": [
      "\u001b[0;31m---------------------------------------------------------------------------\u001b[0m",
      "\u001b[0;31mTypeError\u001b[0m                                 Traceback (most recent call last)",
      "Input \u001b[0;32mIn [9]\u001b[0m, in \u001b[0;36m<cell line: 1>\u001b[0;34m()\u001b[0m\n\u001b[0;32m----> 1\u001b[0m veo2 \u001b[38;5;241m=\u001b[39m \u001b[43mNada\u001b[49m\u001b[38;5;241;43m.\u001b[39;49m\u001b[43mcopy\u001b[49m\u001b[43m(\u001b[49m\u001b[43m)\u001b[49m\n",
      "\u001b[0;31mTypeError\u001b[0m: copy() missing 1 required positional argument: 'self'"
     ]
    }
   ],
   "source": [
    "veo2 = Nada.copy()"
   ]
  },
  {
   "cell_type": "code",
   "execution_count": 15,
   "id": "aed106b2-971c-4694-b269-0c0a017b129e",
   "metadata": {},
   "outputs": [
    {
     "data": {
      "text/plain": [
       "<__main__.Nada at 0x7f8fc531dd00>"
      ]
     },
     "execution_count": 15,
     "metadata": {},
     "output_type": "execute_result"
    }
   ],
   "source": [
    "veo1.__class__(aa=3)"
   ]
  },
  {
   "cell_type": "code",
   "execution_count": 16,
   "id": "7d5dfd86-7fc5-440e-8080-52c5df9422d7",
   "metadata": {},
   "outputs": [
    {
     "data": {
      "text/plain": [
       "'Nada'"
      ]
     },
     "execution_count": 16,
     "metadata": {},
     "output_type": "execute_result"
    }
   ],
   "source": [
    "type(veo1).__name__"
   ]
  },
  {
   "cell_type": "code",
   "execution_count": 26,
   "id": "5af27dcc-4561-40ab-bc1f-02f164518fa0",
   "metadata": {},
   "outputs": [],
   "source": [
    "bb = veo1.__class__(aa=6)"
   ]
  },
  {
   "cell_type": "code",
   "execution_count": 27,
   "id": "28afb3b6-e80d-403c-885f-a4484de471b7",
   "metadata": {},
   "outputs": [
    {
     "data": {
      "text/plain": [
       "<__main__.Nada at 0x7f8fc57b7970>"
      ]
     },
     "execution_count": 27,
     "metadata": {},
     "output_type": "execute_result"
    }
   ],
   "source": [
    "bb."
   ]
  },
  {
   "cell_type": "code",
   "execution_count": null,
   "id": "b1401871-f894-4187-b444-a46366a93247",
   "metadata": {},
   "outputs": [],
   "source": []
  }
 ],
 "metadata": {
  "kernelspec": {
   "display_name": "Python 3 (ipykernel)",
   "language": "python",
   "name": "python3"
  },
  "language_info": {
   "codemirror_mode": {
    "name": "ipython",
    "version": 3
   },
   "file_extension": ".py",
   "mimetype": "text/x-python",
   "name": "python",
   "nbconvert_exporter": "python",
   "pygments_lexer": "ipython3",
   "version": "3.9.13"
  }
 },
 "nbformat": 4,
 "nbformat_minor": 5
}
