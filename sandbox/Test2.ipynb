{
 "cells": [
  {
   "cell_type": "code",
   "execution_count": 1,
   "id": "bbc69d8d-e557-4196-b5e3-ce832f2d6579",
   "metadata": {},
   "outputs": [],
   "source": [
    "from sabueso.database import uniprotkb"
   ]
  },
  {
   "cell_type": "code",
   "execution_count": 2,
   "id": "2ce26b78-5adf-4c83-9da3-a8a732e15b51",
   "metadata": {},
   "outputs": [],
   "source": [
    "#xml_file = uniprotkb.uniprot_id.to_xml_file('P19367', 'P19367.xml')"
   ]
  },
  {
   "cell_type": "code",
   "execution_count": 3,
   "id": "120298b3-cdc2-4489-9a12-7985ff1a6022",
   "metadata": {},
   "outputs": [
    {
     "name": "stdout",
     "output_type": "stream",
     "text": [
      "{'@evidence': '29', '@type': 'primary', '#text': 'HK1'}\n"
     ]
    },
    {
     "ename": "ValueError",
     "evalue": "Unknown source HGNC",
     "output_type": "error",
     "traceback": [
      "\u001b[0;31m---------------------------------------------------------------------------\u001b[0m",
      "\u001b[0;31mValueError\u001b[0m                                Traceback (most recent call last)",
      "Input \u001b[0;32mIn [3]\u001b[0m, in \u001b[0;36m<cell line: 1>\u001b[0;34m()\u001b[0m\n\u001b[0;32m----> 1\u001b[0m entry \u001b[38;5;241m=\u001b[39m \u001b[43muniprotkb\u001b[49m\u001b[38;5;241;43m.\u001b[39;49m\u001b[43mxml_file\u001b[49m\u001b[38;5;241;43m.\u001b[39;49m\u001b[43mto_entry\u001b[49m\u001b[43m(\u001b[49m\u001b[38;5;124;43m'\u001b[39;49m\u001b[38;5;124;43mP19367.xml\u001b[39;49m\u001b[38;5;124;43m'\u001b[39;49m\u001b[43m)\u001b[49m\n",
      "File \u001b[0;32m~/projects@dprada/Sabueso/sabueso/database/uniprotkb/xml_file/to_entry.py:7\u001b[0m, in \u001b[0;36mto_entry\u001b[0;34m(output_filename)\u001b[0m\n\u001b[1;32m      4\u001b[0m \u001b[38;5;28;01mdef\u001b[39;00m \u001b[38;5;21mto_entry\u001b[39m(output_filename):\n\u001b[1;32m      6\u001b[0m     xml_dict \u001b[38;5;241m=\u001b[39m to_xml_dict(output_filename)\n\u001b[0;32m----> 7\u001b[0m     entry \u001b[38;5;241m=\u001b[39m \u001b[43mxml_dict_to_entry\u001b[49m\u001b[43m(\u001b[49m\u001b[43mxml_dict\u001b[49m\u001b[43m)\u001b[49m\n\u001b[1;32m      9\u001b[0m     \u001b[38;5;28;01mreturn\u001b[39;00m entry\n",
      "File \u001b[0;32m~/projects@dprada/Sabueso/sabueso/database/uniprotkb/xml_dict/to_entry.py:211\u001b[0m, in \u001b[0;36mto_entry\u001b[0;34m(xml_dict)\u001b[0m\n\u001b[1;32m    209\u001b[0m record \u001b[38;5;241m=\u001b[39m xml_dict_gene[\u001b[38;5;124m'\u001b[39m\u001b[38;5;124mname\u001b[39m\u001b[38;5;124m'\u001b[39m]\n\u001b[1;32m    210\u001b[0m \u001b[38;5;28mprint\u001b[39m(record)\n\u001b[0;32m--> 211\u001b[0m evidence \u001b[38;5;241m=\u001b[39m \u001b[43m_xml_dict_record_to_evidence\u001b[49m\u001b[43m(\u001b[49m\u001b[43mrecord\u001b[49m\u001b[43m,\u001b[49m\u001b[43m \u001b[49m\u001b[43mxml_dict_evidences\u001b[49m\u001b[43m)\u001b[49m\n\u001b[1;32m    212\u001b[0m evidence\u001b[38;5;241m.\u001b[39madd_reference({\u001b[38;5;124m'\u001b[39m\u001b[38;5;124mdatabase\u001b[39m\u001b[38;5;124m'\u001b[39m:\u001b[38;5;124m'\u001b[39m\u001b[38;5;124mUniProtKB\u001b[39m\u001b[38;5;124m'\u001b[39m, \u001b[38;5;124m'\u001b[39m\u001b[38;5;124mid\u001b[39m\u001b[38;5;124m'\u001b[39m:xml_dict_accession})\n\u001b[1;32m    213\u001b[0m entry\u001b[38;5;241m.\u001b[39mprotein\u001b[38;5;241m.\u001b[39mrecommended_name\u001b[38;5;241m.\u001b[39mec_number \u001b[38;5;241m=\u001b[39m evidence\n",
      "File \u001b[0;32m~/projects@dprada/Sabueso/sabueso/database/uniprotkb/xml_dict/to_entry.py:103\u001b[0m, in \u001b[0;36m_xml_dict_record_to_evidence\u001b[0;34m(xml_dict_record, xml_dict_evidences)\u001b[0m\n\u001b[1;32m    101\u001b[0m             \u001b[38;5;28;01mif\u001b[39;00m evidence_in_db[\u001b[38;5;124m'\u001b[39m\u001b[38;5;124m@key\u001b[39m\u001b[38;5;124m'\u001b[39m]\u001b[38;5;241m!=\u001b[39mevidence_number_in_db:\n\u001b[1;32m    102\u001b[0m                 \u001b[38;5;28;01mraise\u001b[39;00m \u001b[38;5;167;01mValueError\u001b[39;00m(\u001b[38;5;124m'\u001b[39m\u001b[38;5;124mEvidence number does not match evidence @key\u001b[39m\u001b[38;5;124m'\u001b[39m)\n\u001b[0;32m--> 103\u001b[0m             \u001b[43m_add_reference_to_evidence\u001b[49m\u001b[43m(\u001b[49m\u001b[43moutput\u001b[49m\u001b[43m,\u001b[49m\u001b[43m \u001b[49m\u001b[43mevidence_in_db\u001b[49m\u001b[43m)\u001b[49m\n\u001b[1;32m    105\u001b[0m \u001b[38;5;28;01mreturn\u001b[39;00m output\n",
      "File \u001b[0;32m~/projects@dprada/Sabueso/sabueso/database/uniprotkb/xml_dict/to_entry.py:12\u001b[0m, in \u001b[0;36m_add_reference_to_evidence\u001b[0;34m(evidence, evidence_in_db)\u001b[0m\n\u001b[1;32m     10\u001b[0m         dbtype \u001b[38;5;241m=\u001b[39m evidence_in_db[\u001b[38;5;124m'\u001b[39m\u001b[38;5;124msource\u001b[39m\u001b[38;5;124m'\u001b[39m][\u001b[38;5;124m'\u001b[39m\u001b[38;5;124mdbReference\u001b[39m\u001b[38;5;124m'\u001b[39m][\u001b[38;5;124m'\u001b[39m\u001b[38;5;124m@type\u001b[39m\u001b[38;5;124m'\u001b[39m]\n\u001b[1;32m     11\u001b[0m         dbid \u001b[38;5;241m=\u001b[39m evidence_in_db[\u001b[38;5;124m'\u001b[39m\u001b[38;5;124msource\u001b[39m\u001b[38;5;124m'\u001b[39m][\u001b[38;5;124m'\u001b[39m\u001b[38;5;124mdbReference\u001b[39m\u001b[38;5;124m'\u001b[39m][\u001b[38;5;124m'\u001b[39m\u001b[38;5;124m@id\u001b[39m\u001b[38;5;124m'\u001b[39m]\n\u001b[0;32m---> 12\u001b[0m         ref  \u001b[38;5;241m=\u001b[39m \u001b[43m_get_reference_from_dbreference\u001b[49m\u001b[43m(\u001b[49m\u001b[43mdbtype\u001b[49m\u001b[43m,\u001b[49m\u001b[43m \u001b[49m\u001b[43mdbid\u001b[49m\u001b[43m)\u001b[49m\n\u001b[1;32m     13\u001b[0m         evidence\u001b[38;5;241m.\u001b[39madd_reference(ref)\n\u001b[1;32m     15\u001b[0m \u001b[38;5;28;01mpass\u001b[39;00m\n",
      "File \u001b[0;32m~/projects@dprada/Sabueso/sabueso/database/uniprotkb/xml_dict/to_entry.py:82\u001b[0m, in \u001b[0;36m_get_reference_from_dbreference\u001b[0;34m(dbtype, dbid)\u001b[0m\n\u001b[1;32m     80\u001b[0m         \u001b[38;5;28;01mraise\u001b[39;00m \u001b[38;5;167;01mValueError\u001b[39;00m(\u001b[38;5;124mf\u001b[39m\u001b[38;5;124m'\u001b[39m\u001b[38;5;124mUnknown SAM source \u001b[39m\u001b[38;5;132;01m{\u001b[39;00mdbtype\u001b[38;5;132;01m}\u001b[39;00m\u001b[38;5;124m in evidence \u001b[39m\u001b[38;5;132;01m{\u001b[39;00mevidence_in_db\u001b[38;5;132;01m}\u001b[39;00m\u001b[38;5;124m'\u001b[39m)\n\u001b[1;32m     81\u001b[0m \u001b[38;5;28;01melse\u001b[39;00m:\n\u001b[0;32m---> 82\u001b[0m     \u001b[38;5;28;01mraise\u001b[39;00m \u001b[38;5;167;01mValueError\u001b[39;00m(\u001b[38;5;124mf\u001b[39m\u001b[38;5;124m'\u001b[39m\u001b[38;5;124mUnknown source \u001b[39m\u001b[38;5;132;01m{\u001b[39;00mdbtype\u001b[38;5;132;01m}\u001b[39;00m\u001b[38;5;124m'\u001b[39m)\n\u001b[1;32m     84\u001b[0m \u001b[38;5;28;01mreturn\u001b[39;00m ref\n",
      "\u001b[0;31mValueError\u001b[0m: Unknown source HGNC"
     ]
    }
   ],
   "source": [
    "entry = uniprotkb.xml_file.to_entry('P19367.xml')"
   ]
  },
  {
   "cell_type": "code",
   "execution_count": null,
   "id": "049f1386-0e97-47d0-a889-2b4f250e0b4f",
   "metadata": {},
   "outputs": [],
   "source": [
    "entry.protein.recommended_name.full_name"
   ]
  },
  {
   "cell_type": "code",
   "execution_count": null,
   "id": "92ed1a52-a08f-4c29-9070-8bfcdb7e3bc7",
   "metadata": {},
   "outputs": [],
   "source": [
    "entry.protein.alternative_name.short_name"
   ]
  },
  {
   "cell_type": "code",
   "execution_count": null,
   "id": "4cfced95-2a7e-4330-bad1-2df93427af51",
   "metadata": {},
   "outputs": [],
   "source": []
  }
 ],
 "metadata": {
  "kernelspec": {
   "display_name": "Python 3 (ipykernel)",
   "language": "python",
   "name": "python3"
  },
  "language_info": {
   "codemirror_mode": {
    "name": "ipython",
    "version": 3
   },
   "file_extension": ".py",
   "mimetype": "text/x-python",
   "name": "python",
   "nbconvert_exporter": "python",
   "pygments_lexer": "ipython3",
   "version": "3.9.13"
  }
 },
 "nbformat": 4,
 "nbformat_minor": 5
}
