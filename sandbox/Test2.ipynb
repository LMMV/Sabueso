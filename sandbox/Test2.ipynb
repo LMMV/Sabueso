{
 "cells": [
  {
   "cell_type": "code",
   "execution_count": 1,
   "id": "4cfced95-2a7e-4330-bad1-2df93427af51",
   "metadata": {},
   "outputs": [],
   "source": [
    "%load_ext autoreload\n",
    "%autoreload 2"
   ]
  },
  {
   "cell_type": "code",
   "execution_count": 2,
   "id": "bbc69d8d-e557-4196-b5e3-ce832f2d6579",
   "metadata": {},
   "outputs": [],
   "source": [
    "from sabueso.database import UniProtKB"
   ]
  },
  {
   "cell_type": "code",
   "execution_count": 3,
   "id": "20d4224e-bbe0-44b1-894f-55e7d37428bc",
   "metadata": {},
   "outputs": [],
   "source": [
    "hk1 = UniProtKB.xml_file.to_entry('P19367.xml')"
   ]
  },
  {
   "cell_type": "code",
   "execution_count": 9,
   "id": "1f2e8d66-b901-4dee-8b29-4943a9eb780e",
   "metadata": {},
   "outputs": [
    {
     "data": {
      "text/plain": [
       "'ATP'"
      ]
     },
     "execution_count": 9,
     "metadata": {},
     "output_type": "execute_result"
    }
   ],
   "source": [
    "hk1.feature.binding_site[0].ligand.name"
   ]
  },
  {
   "cell_type": "code",
   "execution_count": null,
   "id": "701b8446-c0c7-44a4-b61d-beda7a4311a8",
   "metadata": {},
   "outputs": [],
   "source": [
    "#### To check\n",
    "#https://pyuniprot.readthedocs.io/en/latest/"
   ]
  },
  {
   "cell_type": "code",
   "execution_count": null,
   "id": "40b8a5f1-dffe-4e6c-8a9d-c146bf451062",
   "metadata": {},
   "outputs": [],
   "source": []
  }
 ],
 "metadata": {
  "kernelspec": {
   "display_name": "Python 3 (ipykernel)",
   "language": "python",
   "name": "python3"
  },
  "language_info": {
   "codemirror_mode": {
    "name": "ipython",
    "version": 3
   },
   "file_extension": ".py",
   "mimetype": "text/x-python",
   "name": "python",
   "nbconvert_exporter": "python",
   "pygments_lexer": "ipython3",
   "version": "3.9.13"
  }
 },
 "nbformat": 4,
 "nbformat_minor": 5
}
