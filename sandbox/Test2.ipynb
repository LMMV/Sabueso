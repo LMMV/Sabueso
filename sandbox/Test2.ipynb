{
 "cells": [
  {
   "cell_type": "code",
   "execution_count": 1,
   "id": "4cfced95-2a7e-4330-bad1-2df93427af51",
   "metadata": {},
   "outputs": [],
   "source": [
    "%load_ext autoreload\n",
    "%autoreload 2"
   ]
  },
  {
   "cell_type": "code",
   "execution_count": 2,
   "id": "bbc69d8d-e557-4196-b5e3-ce832f2d6579",
   "metadata": {},
   "outputs": [],
   "source": [
    "from sabueso.database import UniProtKB"
   ]
  },
  {
   "cell_type": "code",
   "execution_count": 3,
   "id": "2ce26b78-5adf-4c83-9da3-a8a732e15b51",
   "metadata": {},
   "outputs": [],
   "source": [
    "#xml_file = uniprotkb.uniprot_id.to_xml_file('P19367', 'P19367.xml')"
   ]
  },
  {
   "cell_type": "code",
   "execution_count": 4,
   "id": "120298b3-cdc2-4489-9a12-7985ff1a6022",
   "metadata": {},
   "outputs": [],
   "source": [
    "entry = UniProtKB.xml_file.to_entry('P19367.xml')"
   ]
  },
  {
   "cell_type": "code",
   "execution_count": null,
   "id": "b1401871-f894-4187-b444-a46366a93247",
   "metadata": {},
   "outputs": [],
   "source": [
    "entry.feature.modified_residue[0].description"
   ]
  },
  {
   "cell_type": "code",
   "execution_count": null,
   "id": "892deb61-5a9d-4739-bf5d-1d7c8d684422",
   "metadata": {},
   "outputs": [],
   "source": []
  }
 ],
 "metadata": {
  "kernelspec": {
   "display_name": "Python 3 (ipykernel)",
   "language": "python",
   "name": "python3"
  },
  "language_info": {
   "codemirror_mode": {
    "name": "ipython",
    "version": 3
   },
   "file_extension": ".py",
   "mimetype": "text/x-python",
   "name": "python",
   "nbconvert_exporter": "python",
   "pygments_lexer": "ipython3",
   "version": "3.9.13"
  }
 },
 "nbformat": 4,
 "nbformat_minor": 5
}
