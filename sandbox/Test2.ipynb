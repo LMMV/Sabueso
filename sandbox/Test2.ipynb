{
 "cells": [
  {
   "cell_type": "code",
   "execution_count": 1,
   "id": "4cfced95-2a7e-4330-bad1-2df93427af51",
   "metadata": {},
   "outputs": [],
   "source": [
    "%load_ext autoreload\n",
    "%autoreload 2"
   ]
  },
  {
   "cell_type": "code",
   "execution_count": 2,
   "id": "bbc69d8d-e557-4196-b5e3-ce832f2d6579",
   "metadata": {},
   "outputs": [],
   "source": [
    "from sabueso.database import UniProtKB"
   ]
  },
  {
   "cell_type": "code",
   "execution_count": 3,
   "id": "20d4224e-bbe0-44b1-894f-55e7d37428bc",
   "metadata": {},
   "outputs": [],
   "source": [
    "hk1 = UniProtKB.xml_file.to_entry('P19367.xml')"
   ]
  },
  {
   "cell_type": "code",
   "execution_count": 10,
   "id": "1cafa840-7b2d-4c86-9108-33299f52fca5",
   "metadata": {},
   "outputs": [
    {
     "data": {
      "text/plain": [
       "'917'"
      ]
     },
     "execution_count": 10,
     "metadata": {},
     "output_type": "execute_result"
    }
   ],
   "source": [
    "hk1.sequence.length"
   ]
  },
  {
   "cell_type": "code",
   "execution_count": null,
   "id": "6f2f3136-c5c5-4231-8cef-e7bbd87f65bf",
   "metadata": {},
   "outputs": [],
   "source": [
    "xml_dict = UniProtKB.xml_file.to_xml_dict('P19367.xml')"
   ]
  },
  {
   "cell_type": "code",
   "execution_count": null,
   "id": "bfcecba6-0470-4713-afb8-a34c6afeed7e",
   "metadata": {},
   "outputs": [],
   "source": [
    "hk1.comment.alternative_products[0].isoform[1]."
   ]
  },
  {
   "cell_type": "code",
   "execution_count": 11,
   "id": "8f4b539e-a28a-49f0-a396-01d0704bdc81",
   "metadata": {},
   "outputs": [
    {
     "data": {
      "text/plain": [
       "'MDCEHSLSLPCRGAEAWEIG'"
      ]
     },
     "execution_count": 11,
     "metadata": {},
     "output_type": "execute_result"
    }
   ],
   "source": [
    "hk1.feature.splice_variant[0].variation"
   ]
  },
  {
   "cell_type": "code",
   "execution_count": null,
   "id": "d6e98a7a-a8b4-438f-829b-f2d1b71746ad",
   "metadata": {},
   "outputs": [],
   "source": [
    "hk1.comment.alternative_products[0].isoform[0]."
   ]
  },
  {
   "cell_type": "code",
   "execution_count": null,
   "id": "701b8446-c0c7-44a4-b61d-beda7a4311a8",
   "metadata": {},
   "outputs": [],
   "source": [
    "#### To check\n",
    "#https://pyuniprot.readthedocs.io/en/latest/"
   ]
  },
  {
   "cell_type": "code",
   "execution_count": null,
   "id": "40b8a5f1-dffe-4e6c-8a9d-c146bf451062",
   "metadata": {},
   "outputs": [],
   "source": []
  }
 ],
 "metadata": {
  "kernelspec": {
   "display_name": "Python 3 (ipykernel)",
   "language": "python",
   "name": "python3"
  },
  "language_info": {
   "codemirror_mode": {
    "name": "ipython",
    "version": 3
   },
   "file_extension": ".py",
   "mimetype": "text/x-python",
   "name": "python",
   "nbconvert_exporter": "python",
   "pygments_lexer": "ipython3",
   "version": "3.9.13"
  }
 },
 "nbformat": 4,
 "nbformat_minor": 5
}
