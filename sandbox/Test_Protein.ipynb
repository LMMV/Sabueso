{
 "cells": [
  {
   "cell_type": "code",
   "execution_count": 1,
   "id": "62af5fa7-1ec8-4252-afae-18acfd0dd187",
   "metadata": {},
   "outputs": [],
   "source": [
    "%load_ext autoreload\n",
    "%autoreload 2"
   ]
  },
  {
   "cell_type": "code",
   "execution_count": 2,
   "id": "4949c058-18b4-4e67-8103-646bc5c2f2ec",
   "metadata": {},
   "outputs": [],
   "source": [
    "import sabueso as sab"
   ]
  },
  {
   "cell_type": "code",
   "execution_count": 3,
   "id": "9b918bbc-8c88-4283-8db4-111d3bd07338",
   "metadata": {},
   "outputs": [],
   "source": [
    "protein_card = sab.database.UniProtKB.xml_file.to_protein_card('P19367.xml')"
   ]
  },
  {
   "cell_type": "code",
   "execution_count": 5,
   "id": "bd4394cd-47b6-415b-9b60-ee59c23d1a4f",
   "metadata": {},
   "outputs": [
    {
     "data": {
      "text/plain": [
       "'CHEBI:30616'"
      ]
     },
     "execution_count": 5,
     "metadata": {},
     "output_type": "execute_result"
    }
   ],
   "source": [
    "protein_card.ligands['ATP'].ChEBI"
   ]
  },
  {
   "cell_type": "code",
   "execution_count": null,
   "id": "5c32175e-b9fe-48d9-b282-36adc48d4368",
   "metadata": {},
   "outputs": [],
   "source": []
  }
 ],
 "metadata": {
  "kernelspec": {
   "display_name": "Python 3 (ipykernel)",
   "language": "python",
   "name": "python3"
  },
  "language_info": {
   "codemirror_mode": {
    "name": "ipython",
    "version": 3
   },
   "file_extension": ".py",
   "mimetype": "text/x-python",
   "name": "python",
   "nbconvert_exporter": "python",
   "pygments_lexer": "ipython3",
   "version": "3.9.13"
  }
 },
 "nbformat": 4,
 "nbformat_minor": 5
}
