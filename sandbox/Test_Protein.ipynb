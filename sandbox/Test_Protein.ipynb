{
 "cells": [
  {
   "cell_type": "code",
   "execution_count": 1,
   "id": "62af5fa7-1ec8-4252-afae-18acfd0dd187",
   "metadata": {},
   "outputs": [],
   "source": [
    "%load_ext autoreload\n",
    "%autoreload 2"
   ]
  },
  {
   "cell_type": "code",
   "execution_count": 2,
   "id": "4949c058-18b4-4e67-8103-646bc5c2f2ec",
   "metadata": {},
   "outputs": [],
   "source": [
    "import sabueso as sab"
   ]
  },
  {
   "cell_type": "code",
   "execution_count": 3,
   "id": "9b918bbc-8c88-4283-8db4-111d3bd07338",
   "metadata": {},
   "outputs": [],
   "source": [
    "protein_card = sab.database.UniProtKB.xml_file.to_protein_card('P19367.xml')"
   ]
  },
  {
   "cell_type": "code",
   "execution_count": 26,
   "id": "29a2a74f-53c0-426c-850a-25c5321adb2c",
   "metadata": {},
   "outputs": [
    {
     "data": {
      "text/plain": [
       "{'ATP-1': <sabueso.card.binding_site_card.BindingSiteCard at 0x7f031bf89dc0>,\n",
       " 'D-glucose 6-phosphate-1': <sabueso.card.binding_site_card.BindingSiteCard at 0x7f031be6eb20>}"
      ]
     },
     "execution_count": 26,
     "metadata": {},
     "output_type": "execute_result"
    }
   ],
   "source": [
    "protein_card.residues[84].binding_sites\n"
   ]
  },
  {
   "cell_type": "code",
   "execution_count": null,
   "id": "13d2cdf7-0224-4f61-b640-55ac7b331fda",
   "metadata": {},
   "outputs": [],
   "source": []
  }
 ],
 "metadata": {
  "kernelspec": {
   "display_name": "Python 3 (ipykernel)",
   "language": "python",
   "name": "python3"
  },
  "language_info": {
   "codemirror_mode": {
    "name": "ipython",
    "version": 3
   },
   "file_extension": ".py",
   "mimetype": "text/x-python",
   "name": "python",
   "nbconvert_exporter": "python",
   "pygments_lexer": "ipython3",
   "version": "3.9.13"
  }
 },
 "nbformat": 4,
 "nbformat_minor": 5
}
