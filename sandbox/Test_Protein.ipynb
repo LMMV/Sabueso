{
 "cells": [
  {
   "cell_type": "code",
   "execution_count": 1,
   "id": "62af5fa7-1ec8-4252-afae-18acfd0dd187",
   "metadata": {},
   "outputs": [],
   "source": [
    "%load_ext autoreload\n",
    "%autoreload 2"
   ]
  },
  {
   "cell_type": "code",
   "execution_count": 2,
   "id": "4949c058-18b4-4e67-8103-646bc5c2f2ec",
   "metadata": {},
   "outputs": [],
   "source": [
    "import sabueso as sab"
   ]
  },
  {
   "cell_type": "code",
   "execution_count": 3,
   "id": "9b918bbc-8c88-4283-8db4-111d3bd07338",
   "metadata": {},
   "outputs": [],
   "source": [
    "protein_card = sab.database.UniProtKB.xml_file.to_protein_card('P19367.xml')"
   ]
  },
  {
   "cell_type": "code",
   "execution_count": 4,
   "id": "5e9aac01-72a6-440f-82c9-eb5efb02fe9c",
   "metadata": {},
   "outputs": [],
   "source": [
    "aa = ['a', 'b', 'c']"
   ]
  },
  {
   "cell_type": "code",
   "execution_count": null,
   "id": "40df3d7d-0ec8-492f-8d7c-264a90af682f",
   "metadata": {},
   "outputs": [],
   "source": [
    "for ii,jj in enumerate(aa):\n",
    "    print(ii,jj)"
   ]
  },
  {
   "cell_type": "code",
   "execution_count": 6,
   "id": "4ece5070-749e-4fb7-bb4a-166498bae377",
   "metadata": {},
   "outputs": [
    {
     "data": {
      "text/plain": [
       "'M'"
      ]
     },
     "execution_count": 6,
     "metadata": {},
     "output_type": "execute_result"
    }
   ],
   "source": [
    "protein_card.residues[1].name"
   ]
  },
  {
   "cell_type": "code",
   "execution_count": null,
   "id": "47e184fd-cc4c-4ba8-8a6a-f43f0a88628c",
   "metadata": {},
   "outputs": [],
   "source": []
  }
 ],
 "metadata": {
  "kernelspec": {
   "display_name": "Python 3 (ipykernel)",
   "language": "python",
   "name": "python3"
  },
  "language_info": {
   "codemirror_mode": {
    "name": "ipython",
    "version": 3
   },
   "file_extension": ".py",
   "mimetype": "text/x-python",
   "name": "python",
   "nbconvert_exporter": "python",
   "pygments_lexer": "ipython3",
   "version": "3.9.13"
  }
 },
 "nbformat": 4,
 "nbformat_minor": 5
}
