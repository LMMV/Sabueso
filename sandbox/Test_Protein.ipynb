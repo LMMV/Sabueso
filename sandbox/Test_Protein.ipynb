{
 "cells": [
  {
   "cell_type": "code",
   "execution_count": 1,
   "id": "4949c058-18b4-4e67-8103-646bc5c2f2ec",
   "metadata": {},
   "outputs": [],
   "source": [
    "import sabueso as sab"
   ]
  },
  {
   "cell_type": "code",
   "execution_count": 2,
   "id": "4582a6a0-b986-4e31-bc5f-16a879ae007a",
   "metadata": {},
   "outputs": [],
   "source": [
    "protein = sab.protein.Protein('P19367')"
   ]
  },
  {
   "cell_type": "code",
   "execution_count": 8,
   "id": "070c0f6c-80cf-4ce2-b241-19c20fb6ec15",
   "metadata": {},
   "outputs": [
    {
     "data": {
      "text/plain": [
       "'917'"
      ]
     },
     "execution_count": 8,
     "metadata": {},
     "output_type": "execute_result"
    }
   ],
   "source": [
    "protein.isoform['1'].length"
   ]
  },
  {
   "cell_type": "code",
   "execution_count": 19,
   "id": "69206887-70b1-4617-bfca-639f2557f732",
   "metadata": {},
   "outputs": [
    {
     "data": {
      "text/plain": [
       "[1, 2, 3, 4, 5, 6, 7, 8, 9, 10, 11, 12, 13, 14, 15, 16, 17, 18, 19, 20, 21]"
      ]
     },
     "execution_count": 19,
     "metadata": {},
     "output_type": "execute_result"
    }
   ],
   "source": [
    "protein.isoform['4'].original_residue_ids"
   ]
  },
  {
   "cell_type": "code",
   "execution_count": null,
   "id": "e2bc7c67-bd18-41b3-ac93-7f9cb3044c93",
   "metadata": {},
   "outputs": [],
   "source": [
    "protein.isoform['4'].sequence"
   ]
  },
  {
   "cell_type": "code",
   "execution_count": null,
   "id": "137c20c4-0461-4d90-afcd-be7798f77d0a",
   "metadata": {},
   "outputs": [],
   "source": [
    "nada[0]"
   ]
  },
  {
   "cell_type": "code",
   "execution_count": null,
   "id": "13cedb8f-0033-4e4d-a54c-d07e1d082907",
   "metadata": {},
   "outputs": [],
   "source": []
  }
 ],
 "metadata": {
  "kernelspec": {
   "display_name": "Python 3 (ipykernel)",
   "language": "python",
   "name": "python3"
  },
  "language_info": {
   "codemirror_mode": {
    "name": "ipython",
    "version": 3
   },
   "file_extension": ".py",
   "mimetype": "text/x-python",
   "name": "python",
   "nbconvert_exporter": "python",
   "pygments_lexer": "ipython3",
   "version": "3.9.13"
  }
 },
 "nbformat": 4,
 "nbformat_minor": 5
}
