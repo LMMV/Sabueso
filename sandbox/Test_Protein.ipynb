{
 "cells": [
  {
   "cell_type": "code",
   "execution_count": 1,
   "id": "4949c058-18b4-4e67-8103-646bc5c2f2ec",
   "metadata": {},
   "outputs": [],
   "source": [
    "import sabueso as sab"
   ]
  },
  {
   "cell_type": "code",
   "execution_count": 2,
   "id": "4582a6a0-b986-4e31-bc5f-16a879ae007a",
   "metadata": {},
   "outputs": [],
   "source": [
    "protein = sab.protein.Protein('P19367')"
   ]
  },
  {
   "cell_type": "code",
   "execution_count": 35,
   "id": "4599f3bb-80cd-4579-ad7f-80453acfe4ae",
   "metadata": {},
   "outputs": [
    {
     "data": {
      "text/plain": [
       "<sabueso.database.UniProtKB.entry.Interaction at 0x7fbe74b53e20>"
      ]
     },
     "execution_count": 35,
     "metadata": {},
     "output_type": "execute_result"
    }
   ],
   "source": [
    "protein.uniprot_entry.comment.interaction[0]"
   ]
  },
  {
   "cell_type": "code",
   "execution_count": null,
   "id": "070c0f6c-80cf-4ce2-b241-19c20fb6ec15",
   "metadata": {},
   "outputs": [],
   "source": []
  }
 ],
 "metadata": {
  "kernelspec": {
   "display_name": "Python 3 (ipykernel)",
   "language": "python",
   "name": "python3"
  },
  "language_info": {
   "codemirror_mode": {
    "name": "ipython",
    "version": 3
   },
   "file_extension": ".py",
   "mimetype": "text/x-python",
   "name": "python",
   "nbconvert_exporter": "python",
   "pygments_lexer": "ipython3",
   "version": "3.9.13"
  }
 },
 "nbformat": 4,
 "nbformat_minor": 5
}
